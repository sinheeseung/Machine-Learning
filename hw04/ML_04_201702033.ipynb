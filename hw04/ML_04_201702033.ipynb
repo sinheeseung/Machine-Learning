{
 "cells": [
  {
   "cell_type": "code",
   "execution_count": 1,
   "id": "333cfa00",
   "metadata": {},
   "outputs": [
    {
     "name": "stdout",
     "output_type": "stream",
     "text": [
      "[1 2 3]\n"
     ]
    }
   ],
   "source": [
    "from sklearn.tree import DecisionTreeClassifier\n",
    "from sklearn.tree import export_graphviz\n",
    "from sklearn.model_selection import train_test_split\n",
    "from IPython.display import display\n",
    "\n",
    "import graphviz\n",
    "import pandas as pd\n",
    "import numpy as np\n",
    "\n",
    "df = pd.read_csv('iris-3.csv')\n",
    "data = np.array(df, dtype='float32')\n",
    "target = np.array(data[:, 4], dtype='int64')\n",
    "\n",
    "df = pd.read_csv('iris+3.csv')\n",
    "test_data = np.array(df, dtype='float32')\n",
    "\n",
    "x_train, x_test, y_train, y_test = train_test_split(data[:, 0:4], target, random_state=0)\n",
    "tree = DecisionTreeClassifier(max_depth=3, random_state=0)\n",
    "\n",
    "tree.fit(x_train, y_train)\n",
    "\n",
    "export_graphviz(tree, out_file=\"tree.dot\")\n",
    "\n",
    "with open(\"tree.dot\") as f:\n",
    "    dot_graph = f.read()\n",
    "dot = graphviz.Source(dot_graph)\n",
    "dot.format = 'jpg'\n",
    "dot.render(filename='tree')\n",
    "\n",
    "y_pred = tree.predict(test_data)\n",
    "print(y_pred)\n",
    "# display(graphviz.Source(dot_graph))\n"
   ]
  },
  {
   "cell_type": "code",
   "execution_count": null,
   "id": "5c2e4e12",
   "metadata": {},
   "outputs": [],
   "source": []
  }
 ],
 "metadata": {
  "kernelspec": {
   "display_name": "Python 3",
   "language": "python",
   "name": "python3"
  },
  "language_info": {
   "codemirror_mode": {
    "name": "ipython",
    "version": 3
   },
   "file_extension": ".py",
   "mimetype": "text/x-python",
   "name": "python",
   "nbconvert_exporter": "python",
   "pygments_lexer": "ipython3",
   "version": "3.8.8"
  }
 },
 "nbformat": 4,
 "nbformat_minor": 5
}

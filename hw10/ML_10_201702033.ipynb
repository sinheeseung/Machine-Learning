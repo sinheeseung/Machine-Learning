{
  "nbformat": 4,
  "nbformat_minor": 5,
  "metadata": {
    "kernelspec": {
      "display_name": "Python 3",
      "language": "python",
      "name": "python3"
    },
    "language_info": {
      "codemirror_mode": {
        "name": "ipython",
        "version": 3
      },
      "file_extension": ".py",
      "mimetype": "text/x-python",
      "name": "python",
      "nbconvert_exporter": "python",
      "pygments_lexer": "ipython3",
      "version": "3.8.8"
    },
    "colab": {
      "name": "ML_10_신희승_201702033.ipynb",
      "provenance": [],
      "collapsed_sections": []
    }
  },
  "cells": [
    {
      "cell_type": "code",
      "metadata": {
        "id": "385c6b21"
      },
      "source": [
        "from sklearn.model_selection import train_test_split\n",
        "from sklearn.neural_network import MLPClassifier\n",
        "from sklearn.datasets import fetch_openml\n",
        "import pandas as pd"
      ],
      "id": "385c6b21",
      "execution_count": 1,
      "outputs": []
    },
    {
      "cell_type": "code",
      "metadata": {
        "id": "046d7fa3"
      },
      "source": [
        "mnist = fetch_openml('mnist_784')\n",
        "x, y = mnist.data, mnist.target\n",
        "df_x = pd.DataFrame(x)\n",
        "df_y = pd.DataFrame(y)"
      ],
      "id": "046d7fa3",
      "execution_count": 2,
      "outputs": []
    },
    {
      "cell_type": "code",
      "metadata": {
        "id": "8564fde6"
      },
      "source": [
        "for i in range(len(x)):\n",
        "    if y[i] != '1' and y[i] != '5' and y[i] != '8':\n",
        "        df_x.drop(i, inplace=True)\n",
        "        df_y.drop(i, inplace=True)\n"
      ],
      "id": "8564fde6",
      "execution_count": 3,
      "outputs": []
    },
    {
      "cell_type": "markdown",
      "metadata": {
        "id": "FogTQ74mu8mf"
      },
      "source": [
        ""
      ],
      "id": "FogTQ74mu8mf"
    },
    {
      "cell_type": "markdown",
      "metadata": {
        "id": "M-hM_P7Mq_ub"
      },
      "source": [
        ""
      ],
      "id": "M-hM_P7Mq_ub"
    },
    {
      "cell_type": "code",
      "metadata": {
        "id": "7a0415ea"
      },
      "source": [
        "x_train, x_test, y_train, y_test = train_test_split(df_x,df_y, train_size=0.7) # train 7 : test 3\n",
        "x_val, x_test, y_val, y_test = train_test_split(x_test,y_test, test_size=2/3) # test 2 : valid 1"
      ],
      "id": "7a0415ea",
      "execution_count": 4,
      "outputs": []
    },
    {
      "cell_type": "code",
      "metadata": {
        "colab": {
          "base_uri": "https://localhost:8080/"
        },
        "id": "617b4635",
        "outputId": "eb6614ca-52fe-456c-e4d8-44e71062654f"
      },
      "source": [
        "print(x_train.shape) # train\n",
        "print(y_train.shape) # train\n",
        "print(x_val.shape) # valid\n",
        "print(x_test.shape) # test"
      ],
      "id": "617b4635",
      "execution_count": 5,
      "outputs": [
        {
          "output_type": "stream",
          "name": "stdout",
          "text": [
            "(14710, 784)\n",
            "(14710, 1)\n",
            "(2101, 784)\n",
            "(4204, 784)\n"
          ]
        }
      ]
    },
    {
      "cell_type": "code",
      "metadata": {
        "colab": {
          "base_uri": "https://localhost:8080/"
        },
        "id": "fcf2b9ea",
        "outputId": "73df24eb-80a6-414e-f4b9-d750186c156b"
      },
      "source": [
        "mlp = MLPClassifier(activation='relu', solver='adam', random_state=0, hidden_layer_sizes=[100,100])\n",
        "mlp.fit(x_train, y_train)\n",
        "\n",
        "print(\"relu, 2층, adam => training set 정확도: {:.3f}\".format(mlp.score(x_train, y_train)))\n",
        "print(\"relu, 2층, adam => validation set 정확도: {:.3f}\".format(mlp.score(x_val, y_val)))"
      ],
      "id": "fcf2b9ea",
      "execution_count": 9,
      "outputs": [
        {
          "output_type": "stream",
          "name": "stderr",
          "text": [
            "/usr/local/lib/python3.7/dist-packages/sklearn/neural_network/_multilayer_perceptron.py:1109: DataConversionWarning: A column-vector y was passed when a 1d array was expected. Please change the shape of y to (n_samples, ), for example using ravel().\n",
            "  y = column_or_1d(y, warn=True)\n"
          ]
        },
        {
          "output_type": "stream",
          "name": "stdout",
          "text": [
            "relu, 2층, adam => training set 정확도: 0.997\n",
            "relu, 2층, adam => validation set 정확도: 0.986\n"
          ]
        }
      ]
    },
    {
      "cell_type": "code",
      "metadata": {
        "colab": {
          "base_uri": "https://localhost:8080/"
        },
        "id": "62dd8748",
        "outputId": "d165363b-49cf-4ece-a190-12f00e89f695"
      },
      "source": [
        "mlp = MLPClassifier(activation='relu', solver='adam', random_state=0, hidden_layer_sizes=[100,100,100])\n",
        "mlp.fit(x_train, y_train)\n",
        "\n",
        "print(\"relu, 3층, adam => training set 정확도: {:.3f}\".format(mlp.score(x_train, y_train)))\n",
        "print(\"relu, 3층, adam => validation set 정확도: {:.3f}\".format(mlp.score(x_val, y_val)))"
      ],
      "id": "62dd8748",
      "execution_count": 10,
      "outputs": [
        {
          "output_type": "stream",
          "name": "stderr",
          "text": [
            "/usr/local/lib/python3.7/dist-packages/sklearn/neural_network/_multilayer_perceptron.py:1109: DataConversionWarning: A column-vector y was passed when a 1d array was expected. Please change the shape of y to (n_samples, ), for example using ravel().\n",
            "  y = column_or_1d(y, warn=True)\n"
          ]
        },
        {
          "output_type": "stream",
          "name": "stdout",
          "text": [
            "relu, 3층, adam => training set 정확도: 0.992\n",
            "relu, 3층, adam => validation set 정확도: 0.980\n"
          ]
        }
      ]
    },
    {
      "cell_type": "code",
      "metadata": {
        "colab": {
          "base_uri": "https://localhost:8080/"
        },
        "id": "5b0d8650",
        "outputId": "a7f77431-3f7e-4be5-d45f-704e1eeca01f"
      },
      "source": [
        "mlp = MLPClassifier(activation='relu', solver='sgd', random_state=0, hidden_layer_sizes=[100,100])\n",
        "mlp.fit(x_train, y_train)\n",
        "\n",
        "print(\"relu, 2층, sgd => training set 정확도: {:.3f}\".format(mlp.score(x_train, y_train)))\n",
        "print(\"relu, 2층, sgd => validation set 정확도: {:.3f}\".format(mlp.score(x_val, y_val)))\n"
      ],
      "id": "5b0d8650",
      "execution_count": 11,
      "outputs": [
        {
          "output_type": "stream",
          "name": "stderr",
          "text": [
            "/usr/local/lib/python3.7/dist-packages/sklearn/neural_network/_multilayer_perceptron.py:1109: DataConversionWarning: A column-vector y was passed when a 1d array was expected. Please change the shape of y to (n_samples, ), for example using ravel().\n",
            "  y = column_or_1d(y, warn=True)\n"
          ]
        },
        {
          "output_type": "stream",
          "name": "stdout",
          "text": [
            "relu, 2층, sgd => training set 정확도: 0.539\n",
            "relu, 2층, sgd => validation set 정확도: 0.533\n"
          ]
        }
      ]
    },
    {
      "cell_type": "code",
      "metadata": {
        "colab": {
          "base_uri": "https://localhost:8080/"
        },
        "id": "50f1a04c",
        "outputId": "9c7b0377-ce61-420b-d28c-43c6a4a8052b"
      },
      "source": [
        "mlp = MLPClassifier(activation='relu', solver='sgd', random_state=0, hidden_layer_sizes=[100,100,100])\n",
        "mlp.fit(x_train, y_train)\n",
        "\n",
        "print(\"relu, 3층, sgd => training set 정확도: {:.3f}\".format(mlp.score(x_train, y_train)))\n",
        "print(\"relu, 3층, sgd => validation set 정확도: {:.3f}\".format(mlp.score(x_val, y_val)))"
      ],
      "id": "50f1a04c",
      "execution_count": 12,
      "outputs": [
        {
          "output_type": "stream",
          "name": "stderr",
          "text": [
            "/usr/local/lib/python3.7/dist-packages/sklearn/neural_network/_multilayer_perceptron.py:1109: DataConversionWarning: A column-vector y was passed when a 1d array was expected. Please change the shape of y to (n_samples, ), for example using ravel().\n",
            "  y = column_or_1d(y, warn=True)\n"
          ]
        },
        {
          "output_type": "stream",
          "name": "stdout",
          "text": [
            "relu, 3층, sgd => training set 정확도: 0.999\n",
            "relu, 3층, sgd => validation set 정확도: 0.980\n"
          ]
        }
      ]
    },
    {
      "cell_type": "code",
      "metadata": {
        "colab": {
          "base_uri": "https://localhost:8080/"
        },
        "id": "142b92c0",
        "outputId": "3c9bf733-3c13-42ea-b13d-3e16efe82580"
      },
      "source": [
        "mlp = MLPClassifier(activation='logistic', solver='adam', random_state=0, hidden_layer_sizes=[100, 100])\n",
        "mlp.fit(x_train, y_train)\n",
        "\n",
        "print(\"logistic, 2층, adam => training set 정확도: {:.3f}\".format(mlp.score(x_train, y_train)))\n",
        "print(\"logistic, 2층, adam => validation set 정확도: {:.3f}\".format(mlp.score(x_val, y_val)))"
      ],
      "id": "142b92c0",
      "execution_count": 13,
      "outputs": [
        {
          "output_type": "stream",
          "name": "stderr",
          "text": [
            "/usr/local/lib/python3.7/dist-packages/sklearn/neural_network/_multilayer_perceptron.py:1109: DataConversionWarning: A column-vector y was passed when a 1d array was expected. Please change the shape of y to (n_samples, ), for example using ravel().\n",
            "  y = column_or_1d(y, warn=True)\n"
          ]
        },
        {
          "output_type": "stream",
          "name": "stdout",
          "text": [
            "logistic, 2층, adam => training set 정확도: 0.988\n",
            "logistic, 2층, adam => validation set 정확도: 0.981\n"
          ]
        }
      ]
    },
    {
      "cell_type": "code",
      "metadata": {
        "colab": {
          "base_uri": "https://localhost:8080/"
        },
        "id": "rvCSmo5urVyO",
        "outputId": "e2d6bf19-4886-4c14-ad46-2a4e47fefefe"
      },
      "source": [
        "mlp = MLPClassifier(activation='logistic', solver='adam', random_state=0, hidden_layer_sizes=[100, 100, 100])\n",
        "mlp.fit(x_train, y_train)\n",
        "\n",
        "print(\"logistic, 3층, adam => training set 정확도: {:.3f}\".format(mlp.score(x_train, y_train)))\n",
        "print(\"logistic, 3층, adam => validation set 정확도: {:.3f}\".format(mlp.score(x_val, y_val)))"
      ],
      "id": "rvCSmo5urVyO",
      "execution_count": 14,
      "outputs": [
        {
          "output_type": "stream",
          "name": "stderr",
          "text": [
            "/usr/local/lib/python3.7/dist-packages/sklearn/neural_network/_multilayer_perceptron.py:1109: DataConversionWarning: A column-vector y was passed when a 1d array was expected. Please change the shape of y to (n_samples, ), for example using ravel().\n",
            "  y = column_or_1d(y, warn=True)\n"
          ]
        },
        {
          "output_type": "stream",
          "name": "stdout",
          "text": [
            "logistic, 3층, adam => training set 정확도: 0.986\n",
            "logistic, 3층, adam => validation set 정확도: 0.983\n"
          ]
        }
      ]
    },
    {
      "cell_type": "code",
      "metadata": {
        "colab": {
          "base_uri": "https://localhost:8080/"
        },
        "id": "mdbrQmCZrWmI",
        "outputId": "7095d90d-929c-4bc1-a5ea-e835fcbbb34d"
      },
      "source": [
        "mlp = MLPClassifier(activation='logistic', solver='sgd', random_state=0, hidden_layer_sizes=[100, 100])\n",
        "mlp.fit(x_train, y_train)\n",
        "\n",
        "print(\"logistic, 2층, sgd => training set 정확도: {:.3f}\".format(mlp.score(x_train, y_train)))\n",
        "print(\"logistic, 2층, sgd => validation set 정확도: {:.3f}\".format(mlp.score(x_val, y_val)))"
      ],
      "id": "mdbrQmCZrWmI",
      "execution_count": null,
      "outputs": [
        {
          "output_type": "stream",
          "name": "stderr",
          "text": [
            "/usr/local/lib/python3.7/dist-packages/sklearn/neural_network/_multilayer_perceptron.py:1109: DataConversionWarning: A column-vector y was passed when a 1d array was expected. Please change the shape of y to (n_samples, ), for example using ravel().\n",
            "  y = column_or_1d(y, warn=True)\n",
            "/usr/local/lib/python3.7/dist-packages/sklearn/neural_network/_multilayer_perceptron.py:696: ConvergenceWarning: Stochastic Optimizer: Maximum iterations (200) reached and the optimization hasn't converged yet.\n",
            "  ConvergenceWarning,\n"
          ]
        },
        {
          "output_type": "stream",
          "name": "stdout",
          "text": [
            "logistic, 2층, sgd => test set 정확도: 0.987\n",
            "logistic, 2층, sgd => validation set 정확도: 0.968\n"
          ]
        }
      ]
    },
    {
      "cell_type": "code",
      "metadata": {
        "colab": {
          "base_uri": "https://localhost:8080/"
        },
        "id": "R-1_CRC0rXeJ",
        "outputId": "2130edd6-a689-4728-aeb5-77b2f92eb6ca"
      },
      "source": [
        "mlp = MLPClassifier(activation='logistic', solver='sgd', random_state=0, hidden_layer_sizes=[100, 100, 100])\n",
        "mlp.fit(x_train, y_train)\n",
        "\n",
        "print(\"logistic, 3층, sgd => training set 정확도: {:.3f}\".format(mlp.score(x_train, y_train)))\n",
        "print(\"logistic, 3층, sgd => validation set 정확도: {:.3f}\".format(mlp.score(x_val, y_val)))"
      ],
      "id": "R-1_CRC0rXeJ",
      "execution_count": null,
      "outputs": [
        {
          "output_type": "stream",
          "name": "stderr",
          "text": [
            "/usr/local/lib/python3.7/dist-packages/sklearn/neural_network/_multilayer_perceptron.py:1109: DataConversionWarning: A column-vector y was passed when a 1d array was expected. Please change the shape of y to (n_samples, ), for example using ravel().\n",
            "  y = column_or_1d(y, warn=True)\n",
            "/usr/local/lib/python3.7/dist-packages/sklearn/neural_network/_multilayer_perceptron.py:696: ConvergenceWarning: Stochastic Optimizer: Maximum iterations (200) reached and the optimization hasn't converged yet.\n",
            "  ConvergenceWarning,\n"
          ]
        },
        {
          "output_type": "stream",
          "name": "stdout",
          "text": [
            "logistic, 3층, sgd => test set 정확도: 0.982\n",
            "logistic, 3층, sgd => validation set 정확도: 0.957\n"
          ]
        }
      ]
    },
    {
      "cell_type": "code",
      "metadata": {
        "colab": {
          "base_uri": "https://localhost:8080/"
        },
        "id": "Inif-uezBexi",
        "outputId": "4572a136-b26d-459f-eabb-da4a8448d583"
      },
      "source": [
        "mlp = MLPClassifier(activation='relu', solver='adam', random_state=0, hidden_layer_sizes=[100,100])\n",
        "mlp.fit(x_train, y_train)\n",
        "\n",
        "print(\"relu, 2층, adam => test set 정확도: {:.3f}\".format(mlp.score(x_test, y_test)))"
      ],
      "id": "Inif-uezBexi",
      "execution_count": 15,
      "outputs": [
        {
          "output_type": "stream",
          "name": "stderr",
          "text": [
            "/usr/local/lib/python3.7/dist-packages/sklearn/neural_network/_multilayer_perceptron.py:1109: DataConversionWarning: A column-vector y was passed when a 1d array was expected. Please change the shape of y to (n_samples, ), for example using ravel().\n",
            "  y = column_or_1d(y, warn=True)\n"
          ]
        },
        {
          "output_type": "stream",
          "name": "stdout",
          "text": [
            "relu, 2층, adam => test set 정확도: 0.988\n"
          ]
        }
      ]
    }
  ]
}
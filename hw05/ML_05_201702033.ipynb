{
 "cells": [
  {
   "cell_type": "code",
   "execution_count": 9,
   "id": "bbacb6c1",
   "metadata": {},
   "outputs": [],
   "source": [
    "from sklearn.ensemble import RandomForestClassifier\n",
    "from sklearn.tree import DecisionTreeClassifier\n",
    "from sklearn.model_selection import train_test_split\n",
    "from sklearn.model_selection import KFold\n",
    "from sklearn.model_selection import cross_val_score\n",
    "\n",
    "import pandas as pd"
   ]
  },
  {
   "cell_type": "code",
   "execution_count": 10,
   "id": "15c79c04",
   "metadata": {},
   "outputs": [],
   "source": [
    "df = pd.read_csv('wdbc.csv', header = None)\n",
    "target = df[1].to_numpy()\n",
    "data = df.iloc[:,2:].to_numpy()"
   ]
  },
  {
   "cell_type": "code",
   "execution_count": 11,
   "id": "60b93f39",
   "metadata": {},
   "outputs": [],
   "source": [
    "x_train, x_test, y_train, y_test = train_test_split(data, target, random_state=0)\n",
    "kfold = KFold(n_splits=5, shuffle=True, random_state=0)"
   ]
  },
  {
   "cell_type": "code",
   "execution_count": 12,
   "id": "a3a7af21",
   "metadata": {},
   "outputs": [],
   "source": [
    "tree = DecisionTreeClassifier(random_state=0)\n",
    "forest_1 = RandomForestClassifier(n_estimators=1, random_state=0)\n",
    "forest_100 = RandomForestClassifier(n_estimators=100, random_state=0)"
   ]
  },
  {
   "cell_type": "code",
   "execution_count": 13,
   "id": "ea9c8c21",
   "metadata": {
    "scrolled": false
   },
   "outputs": [
    {
     "data": {
      "text/plain": [
       "RandomForestClassifier(random_state=0)"
      ]
     },
     "execution_count": 13,
     "metadata": {},
     "output_type": "execute_result"
    }
   ],
   "source": [
    "tree.fit(x_train, y_train)\n",
    "forest_1.fit(x_train, y_train)\n",
    "forest_100.fit(x_train, y_train)"
   ]
  },
  {
   "cell_type": "code",
   "execution_count": 14,
   "id": "51a3098b",
   "metadata": {},
   "outputs": [],
   "source": [
    "score_tree = cross_val_score(tree, x_train, y_train, cv=kfold)\n",
    "score_forest_1 = cross_val_score(forest_1, x_train, y_train, cv=kfold)\n",
    "score_forest_100 = cross_val_score(forest_100, x_train, y_train, cv=kfold)"
   ]
  },
  {
   "cell_type": "code",
   "execution_count": 17,
   "id": "b29029c7",
   "metadata": {},
   "outputs": [
    {
     "name": "stdout",
     "output_type": "stream",
     "text": [
      "Decistion Tree의 교차 검증 점수: [0.94186047 0.89411765 0.92941176 0.95294118 0.88235294]\n",
      "RandomForest(Tree1)의 교차 검증 점수: [0.90697674 0.92941176 0.89411765 0.91764706 0.91764706]\n",
      "RandomForest(Tree100)의 교차 검증 점수: [0.98837209 0.95294118 0.96470588 0.96470588 0.96470588]\n",
      "RandomForest, n_estimators = 100일 때 테스트 셑의 정확도 : 0.97\n"
     ]
    }
   ],
   "source": [
    "print(\"Decistion Tree의 교차 검증 점수:\",score_tree)\n",
    "print(\"RandomForest(Tree1)의 교차 검증 점수:\",score_forest_1)\n",
    "print(\"RandomForest(Tree100)의 교차 검증 점수:\",score_forest_100)\n",
    "\n",
    "print('RandomForest, n_estimators = 100일 때 테스트 셑의 정확도 : {:.2f}'.format(forest_100.score(x_test,y_test)))\n"
   ]
  },
  {
   "cell_type": "code",
   "execution_count": 16,
   "id": "103ea30e",
   "metadata": {},
   "outputs": [
    {
     "name": "stdout",
     "output_type": "stream",
     "text": [
      "RandomForest, n_estimators = 100일 때 테스트 셑의 정확도 : 0.97\n"
     ]
    }
   ],
   "source": []
  }
 ],
 "metadata": {
  "kernelspec": {
   "display_name": "Python 3",
   "language": "python",
   "name": "python3"
  },
  "language_info": {
   "codemirror_mode": {
    "name": "ipython",
    "version": 3
   },
   "file_extension": ".py",
   "mimetype": "text/x-python",
   "name": "python",
   "nbconvert_exporter": "python",
   "pygments_lexer": "ipython3",
   "version": "3.8.8"
  }
 },
 "nbformat": 4,
 "nbformat_minor": 5
}
